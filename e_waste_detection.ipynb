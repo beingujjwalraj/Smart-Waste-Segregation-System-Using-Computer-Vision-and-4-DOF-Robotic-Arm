{
 "cells": [
  {
   "cell_type": "code",
   "execution_count": 5,
   "id": "4e55755f",
   "metadata": {},
   "outputs": [
    {
     "name": "stderr",
     "output_type": "stream",
     "text": [
      "usage: ipykernel_launcher.py [-h] [--weights WEIGHTS] [--cfg CFG]\n",
      "                             [--data DATA] [--hyp HYP] [--epochs EPOCHS]\n",
      "                             [--batch-size BATCH_SIZE] [--imgsz IMGSZ]\n",
      "                             [--rect] [--resume [RESUME]] [--nosave] [--noval]\n",
      "                             [--noautoanchor] [--noplots] [--evolve [EVOLVE]]\n",
      "                             [--evolve_population EVOLVE_POPULATION]\n",
      "                             [--resume_evolve RESUME_EVOLVE] [--bucket BUCKET]\n",
      "                             [--cache [CACHE]] [--image-weights]\n",
      "                             [--device DEVICE] [--multi-scale] [--single-cls]\n",
      "                             [--optimizer {SGD,Adam,AdamW}] [--sync-bn]\n",
      "                             [--workers WORKERS] [--project PROJECT]\n",
      "                             [--name NAME] [--exist-ok] [--quad] [--cos-lr]\n",
      "                             [--label-smoothing LABEL_SMOOTHING]\n",
      "                             [--patience PATIENCE]\n",
      "                             [--freeze FREEZE [FREEZE ...]]\n",
      "                             [--save-period SAVE_PERIOD] [--seed SEED]\n",
      "                             [--local_rank LOCAL_RANK] [--entity ENTITY]\n",
      "                             [--upload_dataset [UPLOAD_DATASET]]\n",
      "                             [--bbox_interval BBOX_INTERVAL]\n",
      "                             [--artifact_alias ARTIFACT_ALIAS]\n",
      "                             [--ndjson-console] [--ndjson-file]\n",
      "ipykernel_launcher.py: error: argument --freeze: invalid int value: '/Users/ujjwalraj/Library/Jupyter/runtime/kernel-v3f6fc90683cc832e5f92647872f4b240c736febfa.json'\n"
     ]
    },
    {
     "ename": "SystemExit",
     "evalue": "2",
     "output_type": "error",
     "traceback": [
      "An exception has occurred, use %tb to see the full traceback.\n",
      "\u001b[31mSystemExit\u001b[39m\u001b[31m:\u001b[39m 2\n"
     ]
    }
   ],
   "source": [
    "import torch\n",
    "from torch.utils.tensorboard import SummaryWriter\n",
    "from yolov5 import train\n",
    "\n",
    "if __name__ == '__main__':\n",
    "    # Training parameters\n",
    "    config = {\n",
    "        'weights': 'yolov5s.pt',        # Pretrained weights\n",
    "        'cfg': 'models/yolov5s-ewaste.yaml',  # Model config\n",
    "        'data': 'data.yaml',            # Dataset config\n",
    "        'hyp': 'data/hyps/hyp.scratch.yaml',  # Hyperparameters\n",
    "        'epochs': 100,                  # Training epochs\n",
    "        'batch-size': 16,               # Batch size\n",
    "        'img-size': 640,                # Input size\n",
    "        'device': '0',                  # GPU device\n",
    "        'workers': 4,                   # DataLoader workers\n",
    "        'project': 'runs/train',        # Save directory\n",
    "        'name': 'e-waste-detection',    # Experiment name\n",
    "        'exist-ok': True                # Overwrite existing\n",
    "    }\n",
    "\n",
    "    # Start training\n",
    "    train.run(**config)"
   ]
  },
  {
   "cell_type": "code",
   "execution_count": 6,
   "id": "3c2f1ea7",
   "metadata": {},
   "outputs": [
    {
     "name": "stdout",
     "output_type": "stream",
     "text": [
      "Total number of training images: 0\n",
      "Total number of validation images: 0\n"
     ]
    }
   ],
   "source": [
    "#to count total number images in the training dataset\n",
    "import os\n",
    "import glob\n",
    "\n",
    "def count_images_in_directory(directory):\n",
    "\n",
    "    # Count the number of image files in the directory\n",
    "    image_files = glob.glob(os.path.join(directory, '*'))\n",
    "    return len(image_files)\n",
    "# Example usage\n",
    "train_directory = 'dataset/train/images'\n",
    "val_directory = 'dataset/val/images'\n",
    "train_image_count = count_images_in_directory(train_directory)\n",
    "val_image_count = count_images_in_directory(val_directory)\n",
    "print(f'Total number of training images: {train_image_count}')\n",
    "print(f'Total number of validation images: {val_image_count}')"
   ]
  },
  {
   "cell_type": "code",
   "execution_count": 7,
   "id": "c00965f9",
   "metadata": {},
   "outputs": [
    {
     "name": "stderr",
     "output_type": "stream",
     "text": [
      "usage: ipykernel_launcher.py [-h] [--weights WEIGHTS] [--cfg CFG]\n",
      "                             [--data DATA] [--hyp HYP] [--epochs EPOCHS]\n",
      "                             [--batch-size BATCH_SIZE] [--imgsz IMGSZ]\n",
      "                             [--rect] [--resume [RESUME]] [--nosave] [--noval]\n",
      "                             [--noautoanchor] [--noplots] [--evolve [EVOLVE]]\n",
      "                             [--evolve_population EVOLVE_POPULATION]\n",
      "                             [--resume_evolve RESUME_EVOLVE] [--bucket BUCKET]\n",
      "                             [--cache [CACHE]] [--image-weights]\n",
      "                             [--device DEVICE] [--multi-scale] [--single-cls]\n",
      "                             [--optimizer {SGD,Adam,AdamW}] [--sync-bn]\n",
      "                             [--workers WORKERS] [--project PROJECT]\n",
      "                             [--name NAME] [--exist-ok] [--quad] [--cos-lr]\n",
      "                             [--label-smoothing LABEL_SMOOTHING]\n",
      "                             [--patience PATIENCE]\n",
      "                             [--freeze FREEZE [FREEZE ...]]\n",
      "                             [--save-period SAVE_PERIOD] [--seed SEED]\n",
      "                             [--local_rank LOCAL_RANK] [--entity ENTITY]\n",
      "                             [--upload_dataset [UPLOAD_DATASET]]\n",
      "                             [--bbox_interval BBOX_INTERVAL]\n",
      "                             [--artifact_alias ARTIFACT_ALIAS]\n",
      "                             [--ndjson-console] [--ndjson-file]\n",
      "ipykernel_launcher.py: error: argument --freeze: invalid int value: '/Users/ujjwalraj/Library/Jupyter/runtime/kernel-v3f6fc90683cc832e5f92647872f4b240c736febfa.json'\n"
     ]
    },
    {
     "ename": "SystemExit",
     "evalue": "2",
     "output_type": "error",
     "traceback": [
      "An exception has occurred, use %tb to see the full traceback.\n",
      "\u001b[31mSystemExit\u001b[39m\u001b[31m:\u001b[39m 2\n"
     ]
    }
   ],
   "source": [
    "import torch\n",
    "from torch.utils.tensorboard import SummaryWriter\n",
    "from yolov5 import train\n",
    "\n",
    "if __name__ == '__main__':\n",
    "    # Training parameters\n",
    "    config = {\n",
    "        'weights': 'yolov5s.pt',        # Pretrained weights\n",
    "        'cfg': 'models/yolov5s-ewaste.yaml',  # Model config\n",
    "        'data': 'data.yaml',            # Dataset config\n",
    "        'hyp': 'data/hyps/hyp.scratch.yaml',  # Hyperparameters\n",
    "        'epochs': 5,                  # Training epochs\n",
    "        'batch-size': 16,               # Batch size\n",
    "        'img-size': 640,                # Input size\n",
    "        'device': '0',                  # GPU device\n",
    "        'workers': 4,                   # DataLoader workers\n",
    "        'project': 'runs/train',        # Save directory\n",
    "        'name': 'e-waste-detection',    # Experiment name\n",
    "        'exist-ok': True                # Overwrite existing\n",
    "    }\n",
    "\n",
    "    # Start training\n",
    "    train.run(**config)"
   ]
  },
  {
   "cell_type": "code",
   "execution_count": null,
   "id": "ea965e3e",
   "metadata": {},
   "outputs": [],
   "source": [
    "# Check image counts\n",
    "find E-waste/train/images -type f | wc -l\n",
    "find E-waste/valid/images -type f | wc -l\n",
    "\n",
    "# Check label counts (should match images)\n",
    "find E-waste/train/labels -type f | wc -l\n",
    "find E-waste/valid/labels -type f | wc -l"
   ]
  }
 ],
 "metadata": {
  "kernelspec": {
   "display_name": "yolov5-env",
   "language": "python",
   "name": "python3"
  },
  "language_info": {
   "codemirror_mode": {
    "name": "ipython",
    "version": 3
   },
   "file_extension": ".py",
   "mimetype": "text/x-python",
   "name": "python",
   "nbconvert_exporter": "python",
   "pygments_lexer": "ipython3",
   "version": "3.12.4"
  }
 },
 "nbformat": 4,
 "nbformat_minor": 5
}
